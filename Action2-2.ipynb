{
 "cells": [
  {
   "cell_type": "code",
   "execution_count": 1,
   "metadata": {},
   "outputs": [
    {
     "name": "stderr",
     "output_type": "stream",
     "text": [
      "<ipython-input-1-f9b45cd208d3>:10: ParserWarning: Falling back to the 'python' engine because the 'c' engine does not support regex separators (separators > 1 char and different from '\\s+' are interpreted as regex); you can avoid this warning by specifying engine='python'.\n",
      "  ratings_data = pd.read_csv(\"ratings.dat\", delimiter='\\:\\:',header=None)\n"
     ]
    },
    {
     "name": "stdout",
     "output_type": "stream",
     "text": [
      "         UserID  MovieID  Rating  Timestamp\n",
      "0             1     1193       5  978300760\n",
      "1             1      661       3  978302109\n",
      "2             1      914       3  978301968\n",
      "3             1     3408       4  978300275\n",
      "4             1     2355       5  978824291\n",
      "...         ...      ...     ...        ...\n",
      "1000204    6040     1091       1  956716541\n",
      "1000205    6040     1094       5  956704887\n",
      "1000206    6040      562       5  956704746\n",
      "1000207    6040     1096       4  956715648\n",
      "1000208    6040     1097       4  956715569\n",
      "\n",
      "[1000209 rows x 4 columns]\n"
     ]
    },
    {
     "name": "stderr",
     "output_type": "stream",
     "text": [
      "<ipython-input-1-f9b45cd208d3>:13: ParserWarning: Falling back to the 'python' engine because the 'c' engine does not support regex separators (separators > 1 char and different from '\\s+' are interpreted as regex); you can avoid this warning by specifying engine='python'.\n",
      "  movies_data = pd.read_csv(\"movies.dat\", delimiter='\\:\\:',header=None)\n",
      "<ipython-input-1-f9b45cd208d3>:15: ParserWarning: Falling back to the 'python' engine because the 'c' engine does not support regex separators (separators > 1 char and different from '\\s+' are interpreted as regex); you can avoid this warning by specifying engine='python'.\n",
      "  users_data = pd.read_csv(\"users.dat\", delimiter='\\:\\:',header=None)\n"
     ]
    },
    {
     "name": "stdout",
     "output_type": "stream",
     "text": [
      "         UserID  MovieID  Rating  Timestamp  \\\n",
      "0             1     1193       5  978300760   \n",
      "1             2     1193       5  978298413   \n",
      "2            12     1193       4  978220179   \n",
      "3            15     1193       4  978199279   \n",
      "4            17     1193       5  978158471   \n",
      "...         ...      ...     ...        ...   \n",
      "1000204    5949     2198       5  958846401   \n",
      "1000205    5675     2703       3  976029116   \n",
      "1000206    5780     2845       1  958153068   \n",
      "1000207    5851     3607       5  957756608   \n",
      "1000208    5938     2909       4  957273353   \n",
      "\n",
      "                                               Title                Genres  \n",
      "0             One Flew Over the Cuckoo's Nest (1975)                 Drama  \n",
      "1             One Flew Over the Cuckoo's Nest (1975)                 Drama  \n",
      "2             One Flew Over the Cuckoo's Nest (1975)                 Drama  \n",
      "3             One Flew Over the Cuckoo's Nest (1975)                 Drama  \n",
      "4             One Flew Over the Cuckoo's Nest (1975)                 Drama  \n",
      "...                                              ...                   ...  \n",
      "1000204                           Modulations (1998)           Documentary  \n",
      "1000205                        Broken Vessels (1998)                 Drama  \n",
      "1000206                            White Boys (1999)                 Drama  \n",
      "1000207                     One Little Indian (1973)  Comedy|Drama|Western  \n",
      "1000208  Five Wives, Three Secretaries and Me (1998)           Documentary  \n",
      "\n",
      "[1000209 rows x 6 columns]\n",
      "         UserID  MovieID  Rating  Timestamp  \\\n",
      "0             1     1193       5  978300760   \n",
      "1             1      661       3  978302109   \n",
      "2             1      914       3  978301968   \n",
      "3             1     3408       4  978300275   \n",
      "4             1     2355       5  978824291   \n",
      "...         ...      ...     ...        ...   \n",
      "1000204    4211     3791       2  965319075   \n",
      "1000205    4211     3806       3  965319138   \n",
      "1000206    4211     3840       4  965319197   \n",
      "1000207    4211     3766       2  965319138   \n",
      "1000208    4211     3834       2  965318885   \n",
      "\n",
      "                                          Title                        Genres  \\\n",
      "0        One Flew Over the Cuckoo's Nest (1975)                         Drama   \n",
      "1              James and the Giant Peach (1996)  Animation|Children's|Musical   \n",
      "2                           My Fair Lady (1964)               Musical|Romance   \n",
      "3                        Erin Brockovich (2000)                         Drama   \n",
      "4                          Bug's Life, A (1998)   Animation|Children's|Comedy   \n",
      "...                                         ...                           ...   \n",
      "1000204                        Footloose (1984)                         Drama   \n",
      "1000205                  MacKenna's Gold (1969)                       Western   \n",
      "1000206                      Pumpkinhead (1988)                        Horror   \n",
      "1000207                Missing in Action (1984)                    Action|War   \n",
      "1000208                     Bronco Billy (1980)       Adventure|Drama|Romance   \n",
      "\n",
      "        Gender  Age  Occupation Zip-code  \n",
      "0            F    1          10    48067  \n",
      "1            F    1          10    48067  \n",
      "2            F    1          10    48067  \n",
      "3            F    1          10    48067  \n",
      "4            F    1          10    48067  \n",
      "...        ...  ...         ...      ...  \n",
      "1000204      M   45           5    77662  \n",
      "1000205      M   45           5    77662  \n",
      "1000206      M   45           5    77662  \n",
      "1000207      M   45           5    77662  \n",
      "1000208      M   45           5    77662  \n",
      "\n",
      "[1000209 rows x 10 columns]\n",
      "[SparseFeat(name='UserID', vocabulary_size=6040, embedding_dim=4, use_hash=False, dtype='int32', embeddings_initializer=<tensorflow.python.keras.initializers.initializers_v1.RandomNormal object at 0x000001CB3BEBA460>, embedding_name='UserID', group_name='default_group', trainable=True), SparseFeat(name='MovieID', vocabulary_size=3706, embedding_dim=4, use_hash=False, dtype='int32', embeddings_initializer=<tensorflow.python.keras.initializers.initializers_v1.RandomNormal object at 0x000001CB3BEBAA90>, embedding_name='MovieID', group_name='default_group', trainable=True), SparseFeat(name='Gender', vocabulary_size=2, embedding_dim=4, use_hash=False, dtype='int32', embeddings_initializer=<tensorflow.python.keras.initializers.initializers_v1.RandomNormal object at 0x000001CB3BEBA670>, embedding_name='Gender', group_name='default_group', trainable=True), SparseFeat(name='Age', vocabulary_size=7, embedding_dim=4, use_hash=False, dtype='int32', embeddings_initializer=<tensorflow.python.keras.initializers.initializers_v1.RandomNormal object at 0x000001CB3BEBA220>, embedding_name='Age', group_name='default_group', trainable=True), SparseFeat(name='Occupation', vocabulary_size=21, embedding_dim=4, use_hash=False, dtype='int32', embeddings_initializer=<tensorflow.python.keras.initializers.initializers_v1.RandomNormal object at 0x000001CB3BEBAB20>, embedding_name='Occupation', group_name='default_group', trainable=True), SparseFeat(name='Zip-code', vocabulary_size=3439, embedding_dim=4, use_hash=False, dtype='int32', embeddings_initializer=<tensorflow.python.keras.initializers.initializers_v1.RandomNormal object at 0x000001CB3BEBA4F0>, embedding_name='Zip-code', group_name='default_group', trainable=True)]\n"
     ]
    },
    {
     "name": "stderr",
     "output_type": "stream",
     "text": [
      "e:\\Users\\huangbo\\anaconda3\\lib\\site-packages\\tensorflow\\python\\framework\\indexed_slices.py:431: UserWarning: Converting sparse IndexedSlices to a dense Tensor of unknown shape. This may consume a large amount of memory.\n",
      "  warnings.warn(\n"
     ]
    },
    {
     "name": "stdout",
     "output_type": "stream",
     "text": [
      "2501/2501 [==============================] - 8s 3ms/step - loss: 0.9979 - mse: 0.9972 - val_loss: 0.8290 - val_mse: 0.8278\n",
      "test RMSE 0.905317623820502\n"
     ]
    }
   ],
   "source": [
    "#全数据\n",
    "import pandas as pd\n",
    "from sklearn.metrics import mean_squared_error\n",
    "from sklearn.model_selection import train_test_split\n",
    "from sklearn.preprocessing import LabelEncoder\n",
    "from deepctr.models import DeepFM\n",
    "from deepctr.feature_column import SparseFeat,get_feature_names\n",
    "\n",
    "#数据加载\n",
    "ratings_data = pd.read_csv(\"ratings.dat\", delimiter='\\:\\:',header=None)\n",
    "ratings_data.columns = ['UserID','MovieID','Rating','Timestamp']\n",
    "print(ratings_data)\n",
    "movies_data = pd.read_csv(\"movies.dat\", delimiter='\\:\\:',header=None)\n",
    "movies_data.columns = ['MovieID','Title','Genres']\n",
    "users_data = pd.read_csv(\"users.dat\", delimiter='\\:\\:',header=None)\n",
    "users_data.columns = ['UserID','Gender','Age','Occupation','Zip-code']\n",
    "# data = pd.read_csv(\"movielens_sample.txt\")\n",
    "data1 =  pd.merge(ratings_data, movies_data, on=\"MovieID\", how=\"inner\")\n",
    "print(data1)\n",
    "data =  pd.merge(data1, users_data, on=\"UserID\", how=\"inner\")\n",
    "#data\n",
    "print(data)\n",
    "sparse_features = [\"UserID\", \"MovieID\", \"Gender\", \"Age\", \"Occupation\", \"Zip-code\"]\n",
    "target = ['Rating']\n",
    "\n",
    "# 对特征标签进行编码\n",
    "for feature in sparse_features:\n",
    "    lbe = LabelEncoder()\n",
    "    data[feature] = lbe.fit_transform(data[feature])\n",
    "# 计算每个特征中的 不同特征值的个数\n",
    "fixlen_feature_columns = [SparseFeat(feature, data[feature].nunique()) for feature in sparse_features]\n",
    "print(fixlen_feature_columns)\n",
    "linear_feature_columns = fixlen_feature_columns\n",
    "dnn_feature_columns = fixlen_feature_columns\n",
    "feature_names = get_feature_names(linear_feature_columns + dnn_feature_columns)\n",
    "\n",
    "# 将数据集切分成训练集和测试集\n",
    "train, test = train_test_split(data, test_size=0.2)\n",
    "train_model_input = {name:train[name].values for name in feature_names}\n",
    "test_model_input = {name:test[name].values for name in feature_names}\n",
    "\n",
    "# 使用DeepFM进行训练\n",
    "model = DeepFM(linear_feature_columns, dnn_feature_columns, task='regression')\n",
    "model.compile(\"adam\", \"mse\", metrics=['mse'], )\n",
    "history = model.fit(train_model_input, train[target].values, batch_size=256, epochs=1, verbose=True, validation_split=0.2, )\n",
    "# 使用DeepFM进行预测\n",
    "pred_ans = model.predict(test_model_input, batch_size=256)\n",
    "# 输出RMSE或MSE\n",
    "mse = round(mean_squared_error(test[target].values, pred_ans), 4)\n",
    "rmse = mse ** 0.5\n",
    "print(\"test RMSE\", rmse)"
   ]
  },
  {
   "cell_type": "code",
   "execution_count": null,
   "metadata": {},
   "outputs": [],
   "source": []
  }
 ],
 "metadata": {
  "kernelspec": {
   "display_name": "Python 3",
   "language": "python",
   "name": "python3"
  },
  "language_info": {
   "codemirror_mode": {
    "name": "ipython",
    "version": 3
   },
   "file_extension": ".py",
   "mimetype": "text/x-python",
   "name": "python",
   "nbconvert_exporter": "python",
   "pygments_lexer": "ipython3",
   "version": "3.8.3"
  }
 },
 "nbformat": 4,
 "nbformat_minor": 4
}
